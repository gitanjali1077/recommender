{
 "cells": [
  {
   "cell_type": "markdown",
   "metadata": {},
   "source": [
    "# Building a song recommender"
   ]
  },
  {
   "cell_type": "raw",
   "metadata": {},
   "source": [
    "-------------\n",
    "Dataset used:\n",
    "-------------\n",
    "Million Songs Dataset\n",
    "Source: http://labrosa.ee.columbia.edu/millionsong/\n",
    "Paper: http://ismir2011.ismir.net/papers/OS6-1.pdf\n",
    "\n",
    "The current notebook uses a subset of the above data containing 10,000 songs obtained from:\n",
    "https://github.com/turi-code/tutorials/blob/master/notebooks/recsys_rank_10K_song.ipynb"
   ]
  },
  {
   "cell_type": "code",
   "execution_count": null,
   "metadata": {
    "collapsed": false
   },
   "outputs": [],
   "source": [
    "%matplotlib inline\n",
    "\n",
    "import pandas\n",
    "from sklearn.cross_validation import train_test_split\n",
    "import numpy as np\n",
    "import time\n",
    "from sklearn.externals import joblib\n",
    "import Recommenders as Recommenders\n",
    "import Evaluation as Evaluation"
   ]
  },
  {
   "cell_type": "markdown",
   "metadata": {},
   "source": [
    "# Load music data"
   ]
  },
  {
   "cell_type": "code",
   "execution_count": 46,
   "metadata": {
    "collapsed": false
   },
   "outputs": [
    {
     "name": "stdout",
     "output_type": "stream",
     "text": [
      "success\n"
     ]
    }
   ],
   "source": [
    "#Read userid-songid-listen_count triplets\n",
    "#This step might take time to download data from external sources\n",
    "triplets_file = 'https://static.turi.com/datasets/millionsong/10000.txt'\n",
    "songs_metadata_file = 'https://static.turi.com/datasets/millionsong/song_data.csv'\n",
    "\n",
    "song_df_1 = pandas.read_table(triplets_file,header=None)\n",
    "song_df_1.columns = ['user_id', 'song_id', 'listen_count']\n",
    "\n",
    "#Read song  metadata\n",
    "song_df =  pandas.read_csv(\"/resources/data/samples/subject_data.csv\")\n",
    "\n",
    "#Merge the two dataframes above to create input dataframe for recommender systems\n",
    "#song_df = pandas.merge(song_df_1, song_df_2.drop_duplicates(['song_id']), on=\"song_id\", how=\"left\") \n",
    "print (\"success\")"
   ]
  },
  {
   "cell_type": "markdown",
   "metadata": {},
   "source": [
    "# Explore data\n",
    "\n",
    "Music data shows how many times a user listened to a song, as well as the details of the song."
   ]
  },
  {
   "cell_type": "code",
   "execution_count": 47,
   "metadata": {
    "collapsed": false,
    "scrolled": false
   },
   "outputs": [
    {
     "data": {
      "text/html": [
       "<div>\n",
       "<style scoped>\n",
       "    .dataframe tbody tr th:only-of-type {\n",
       "        vertical-align: middle;\n",
       "    }\n",
       "\n",
       "    .dataframe tbody tr th {\n",
       "        vertical-align: top;\n",
       "    }\n",
       "\n",
       "    .dataframe thead th {\n",
       "        text-align: right;\n",
       "    }\n",
       "</style>\n",
       "<table border=\"1\" class=\"dataframe\">\n",
       "  <thead>\n",
       "    <tr style=\"text-align: right;\">\n",
       "      <th></th>\n",
       "      <th>user_id</th>\n",
       "      <th>song_id</th>\n",
       "      <th>click_count</th>\n",
       "      <th>title</th>\n",
       "      <th>Unnamed: 4</th>\n",
       "    </tr>\n",
       "  </thead>\n",
       "  <tbody>\n",
       "    <tr>\n",
       "      <th>0</th>\n",
       "      <td>b80344d063b5ccb3212f76538f3d9e43d87dca9e</td>\n",
       "      <td>SOAKIMP12A8C130995</td>\n",
       "      <td>1</td>\n",
       "      <td>Science</td>\n",
       "      <td>NaN</td>\n",
       "    </tr>\n",
       "    <tr>\n",
       "      <th>1</th>\n",
       "      <td>b80344d063b5ccb3212f76538f3d9e43d87dca9e</td>\n",
       "      <td>SOJPFQG12A58A7833A</td>\n",
       "      <td>2</td>\n",
       "      <td>Physics</td>\n",
       "      <td>NaN</td>\n",
       "    </tr>\n",
       "    <tr>\n",
       "      <th>2</th>\n",
       "      <td>b80344d063b5ccb3212f76538f3d9e43d87dca9e</td>\n",
       "      <td>SOBXHDL12A81C204C0</td>\n",
       "      <td>1</td>\n",
       "      <td>Chemistry</td>\n",
       "      <td>NaN</td>\n",
       "    </tr>\n",
       "    <tr>\n",
       "      <th>3</th>\n",
       "      <td>b80344d063b5ccb3212f76538f3d9e43d87dca9e</td>\n",
       "      <td>SOBYHAJ12A6701BF1D</td>\n",
       "      <td>1</td>\n",
       "      <td>Nuclear</td>\n",
       "      <td>NaN</td>\n",
       "    </tr>\n",
       "    <tr>\n",
       "      <th>4</th>\n",
       "      <td>b80344d063b5ccb3212f76538f3d9e43d87dca9e</td>\n",
       "      <td>SODACBL12A8C13C273</td>\n",
       "      <td>1</td>\n",
       "      <td>Maths</td>\n",
       "      <td>NaN</td>\n",
       "    </tr>\n",
       "  </tbody>\n",
       "</table>\n",
       "</div>"
      ],
      "text/plain": [
       "                                    user_id             song_id  click_count  \\\n",
       "0  b80344d063b5ccb3212f76538f3d9e43d87dca9e  SOAKIMP12A8C130995            1   \n",
       "1  b80344d063b5ccb3212f76538f3d9e43d87dca9e  SOJPFQG12A58A7833A            2   \n",
       "2  b80344d063b5ccb3212f76538f3d9e43d87dca9e  SOBXHDL12A81C204C0            1   \n",
       "3  b80344d063b5ccb3212f76538f3d9e43d87dca9e  SOBYHAJ12A6701BF1D            1   \n",
       "4  b80344d063b5ccb3212f76538f3d9e43d87dca9e  SODACBL12A8C13C273            1   \n",
       "\n",
       "       title  Unnamed: 4  \n",
       "0    Science         NaN  \n",
       "1    Physics         NaN  \n",
       "2  Chemistry         NaN  \n",
       "3    Nuclear         NaN  \n",
       "4      Maths         NaN  "
      ]
     },
     "execution_count": 47,
     "metadata": {},
     "output_type": "execute_result"
    }
   ],
   "source": [
    "song_df.head()"
   ]
  },
  {
   "cell_type": "markdown",
   "metadata": {},
   "source": [
    "## Length of the dataset"
   ]
  },
  {
   "cell_type": "code",
   "execution_count": 48,
   "metadata": {
    "collapsed": false
   },
   "outputs": [
    {
     "data": {
      "text/plain": [
       "50"
      ]
     },
     "execution_count": 48,
     "metadata": {},
     "output_type": "execute_result"
    }
   ],
   "source": [
    "len(song_df)"
   ]
  },
  {
   "cell_type": "markdown",
   "metadata": {},
   "source": [
    "## Create a subset of the dataset"
   ]
  },
  {
   "cell_type": "code",
   "execution_count": 51,
   "metadata": {
    "collapsed": false
   },
   "outputs": [],
   "source": [
    "#song_df = song_df.head(10000)\n",
    "\n",
    "#Merge song title and artist_name columns to make a merged column\n",
    "song_df['song'] = song_df['title'].map(str) #+ \" - \" + song_df['click_count']"
   ]
  },
  {
   "cell_type": "markdown",
   "metadata": {},
   "source": [
    "## Showing the most popular songs in the dataset"
   ]
  },
  {
   "cell_type": "code",
   "execution_count": 53,
   "metadata": {
    "collapsed": false
   },
   "outputs": [
    {
     "data": {
      "text/html": [
       "<div>\n",
       "<style scoped>\n",
       "    .dataframe tbody tr th:only-of-type {\n",
       "        vertical-align: middle;\n",
       "    }\n",
       "\n",
       "    .dataframe tbody tr th {\n",
       "        vertical-align: top;\n",
       "    }\n",
       "\n",
       "    .dataframe thead th {\n",
       "        text-align: right;\n",
       "    }\n",
       "</style>\n",
       "<table border=\"1\" class=\"dataframe\">\n",
       "  <thead>\n",
       "    <tr style=\"text-align: right;\">\n",
       "      <th></th>\n",
       "      <th>song</th>\n",
       "      <th>click_count</th>\n",
       "      <th>percentage</th>\n",
       "    </tr>\n",
       "  </thead>\n",
       "  <tbody>\n",
       "    <tr>\n",
       "      <th>8</th>\n",
       "      <td>artificial intelligence</td>\n",
       "      <td>2</td>\n",
       "      <td>4.0</td>\n",
       "    </tr>\n",
       "    <tr>\n",
       "      <th>13</th>\n",
       "      <td>computers</td>\n",
       "      <td>2</td>\n",
       "      <td>4.0</td>\n",
       "    </tr>\n",
       "    <tr>\n",
       "      <th>17</th>\n",
       "      <td>english</td>\n",
       "      <td>2</td>\n",
       "      <td>4.0</td>\n",
       "    </tr>\n",
       "    <tr>\n",
       "      <th>20</th>\n",
       "      <td>hindi</td>\n",
       "      <td>2</td>\n",
       "      <td>4.0</td>\n",
       "    </tr>\n",
       "    <tr>\n",
       "      <th>21</th>\n",
       "      <td>history</td>\n",
       "      <td>2</td>\n",
       "      <td>4.0</td>\n",
       "    </tr>\n",
       "    <tr>\n",
       "      <th>24</th>\n",
       "      <td>literature</td>\n",
       "      <td>2</td>\n",
       "      <td>4.0</td>\n",
       "    </tr>\n",
       "    <tr>\n",
       "      <th>25</th>\n",
       "      <td>machine learning</td>\n",
       "      <td>2</td>\n",
       "      <td>4.0</td>\n",
       "    </tr>\n",
       "    <tr>\n",
       "      <th>38</th>\n",
       "      <td>social science</td>\n",
       "      <td>2</td>\n",
       "      <td>4.0</td>\n",
       "    </tr>\n",
       "    <tr>\n",
       "      <th>0</th>\n",
       "      <td>Chemistry</td>\n",
       "      <td>1</td>\n",
       "      <td>2.0</td>\n",
       "    </tr>\n",
       "    <tr>\n",
       "      <th>1</th>\n",
       "      <td>Maths</td>\n",
       "      <td>1</td>\n",
       "      <td>2.0</td>\n",
       "    </tr>\n",
       "    <tr>\n",
       "      <th>2</th>\n",
       "      <td>Nuclear</td>\n",
       "      <td>1</td>\n",
       "      <td>2.0</td>\n",
       "    </tr>\n",
       "    <tr>\n",
       "      <th>3</th>\n",
       "      <td>Physics</td>\n",
       "      <td>1</td>\n",
       "      <td>2.0</td>\n",
       "    </tr>\n",
       "    <tr>\n",
       "      <th>4</th>\n",
       "      <td>Science</td>\n",
       "      <td>1</td>\n",
       "      <td>2.0</td>\n",
       "    </tr>\n",
       "    <tr>\n",
       "      <th>5</th>\n",
       "      <td>advance maths</td>\n",
       "      <td>1</td>\n",
       "      <td>2.0</td>\n",
       "    </tr>\n",
       "    <tr>\n",
       "      <th>6</th>\n",
       "      <td>algebra</td>\n",
       "      <td>1</td>\n",
       "      <td>2.0</td>\n",
       "    </tr>\n",
       "    <tr>\n",
       "      <th>7</th>\n",
       "      <td>algorithms</td>\n",
       "      <td>1</td>\n",
       "      <td>2.0</td>\n",
       "    </tr>\n",
       "    <tr>\n",
       "      <th>9</th>\n",
       "      <td>arts</td>\n",
       "      <td>1</td>\n",
       "      <td>2.0</td>\n",
       "    </tr>\n",
       "    <tr>\n",
       "      <th>10</th>\n",
       "      <td>botony</td>\n",
       "      <td>1</td>\n",
       "      <td>2.0</td>\n",
       "    </tr>\n",
       "    <tr>\n",
       "      <th>11</th>\n",
       "      <td>c ++</td>\n",
       "      <td>1</td>\n",
       "      <td>2.0</td>\n",
       "    </tr>\n",
       "    <tr>\n",
       "      <th>12</th>\n",
       "      <td>cardiac</td>\n",
       "      <td>1</td>\n",
       "      <td>2.0</td>\n",
       "    </tr>\n",
       "    <tr>\n",
       "      <th>14</th>\n",
       "      <td>data structure</td>\n",
       "      <td>1</td>\n",
       "      <td>2.0</td>\n",
       "    </tr>\n",
       "    <tr>\n",
       "      <th>15</th>\n",
       "      <td>discrete maths</td>\n",
       "      <td>1</td>\n",
       "      <td>2.0</td>\n",
       "    </tr>\n",
       "    <tr>\n",
       "      <th>16</th>\n",
       "      <td>engineering</td>\n",
       "      <td>1</td>\n",
       "      <td>2.0</td>\n",
       "    </tr>\n",
       "    <tr>\n",
       "      <th>18</th>\n",
       "      <td>english grammar</td>\n",
       "      <td>1</td>\n",
       "      <td>2.0</td>\n",
       "    </tr>\n",
       "    <tr>\n",
       "      <th>19</th>\n",
       "      <td>grammar</td>\n",
       "      <td>1</td>\n",
       "      <td>2.0</td>\n",
       "    </tr>\n",
       "    <tr>\n",
       "      <th>22</th>\n",
       "      <td>it</td>\n",
       "      <td>1</td>\n",
       "      <td>2.0</td>\n",
       "    </tr>\n",
       "    <tr>\n",
       "      <th>23</th>\n",
       "      <td>java</td>\n",
       "      <td>1</td>\n",
       "      <td>2.0</td>\n",
       "    </tr>\n",
       "    <tr>\n",
       "      <th>26</th>\n",
       "      <td>maths</td>\n",
       "      <td>1</td>\n",
       "      <td>2.0</td>\n",
       "    </tr>\n",
       "    <tr>\n",
       "      <th>27</th>\n",
       "      <td>mechanical</td>\n",
       "      <td>1</td>\n",
       "      <td>2.0</td>\n",
       "    </tr>\n",
       "    <tr>\n",
       "      <th>28</th>\n",
       "      <td>medical</td>\n",
       "      <td>1</td>\n",
       "      <td>2.0</td>\n",
       "    </tr>\n",
       "    <tr>\n",
       "      <th>29</th>\n",
       "      <td>mobile development</td>\n",
       "      <td>1</td>\n",
       "      <td>2.0</td>\n",
       "    </tr>\n",
       "    <tr>\n",
       "      <th>30</th>\n",
       "      <td>nlp</td>\n",
       "      <td>1</td>\n",
       "      <td>2.0</td>\n",
       "    </tr>\n",
       "    <tr>\n",
       "      <th>31</th>\n",
       "      <td>phisiology</td>\n",
       "      <td>1</td>\n",
       "      <td>2.0</td>\n",
       "    </tr>\n",
       "    <tr>\n",
       "      <th>32</th>\n",
       "      <td>physics</td>\n",
       "      <td>1</td>\n",
       "      <td>2.0</td>\n",
       "    </tr>\n",
       "    <tr>\n",
       "      <th>33</th>\n",
       "      <td>poetry</td>\n",
       "      <td>1</td>\n",
       "      <td>2.0</td>\n",
       "    </tr>\n",
       "    <tr>\n",
       "      <th>34</th>\n",
       "      <td>politics</td>\n",
       "      <td>1</td>\n",
       "      <td>2.0</td>\n",
       "    </tr>\n",
       "    <tr>\n",
       "      <th>35</th>\n",
       "      <td>programming</td>\n",
       "      <td>1</td>\n",
       "      <td>2.0</td>\n",
       "    </tr>\n",
       "    <tr>\n",
       "      <th>36</th>\n",
       "      <td>psychology</td>\n",
       "      <td>1</td>\n",
       "      <td>2.0</td>\n",
       "    </tr>\n",
       "    <tr>\n",
       "      <th>37</th>\n",
       "      <td>science</td>\n",
       "      <td>1</td>\n",
       "      <td>2.0</td>\n",
       "    </tr>\n",
       "    <tr>\n",
       "      <th>39</th>\n",
       "      <td>thermal</td>\n",
       "      <td>1</td>\n",
       "      <td>2.0</td>\n",
       "    </tr>\n",
       "    <tr>\n",
       "      <th>40</th>\n",
       "      <td>web development</td>\n",
       "      <td>1</td>\n",
       "      <td>2.0</td>\n",
       "    </tr>\n",
       "    <tr>\n",
       "      <th>41</th>\n",
       "      <td>zoology</td>\n",
       "      <td>1</td>\n",
       "      <td>2.0</td>\n",
       "    </tr>\n",
       "  </tbody>\n",
       "</table>\n",
       "</div>"
      ],
      "text/plain": [
       "                       song  click_count  percentage\n",
       "8   artificial intelligence            2         4.0\n",
       "13                computers            2         4.0\n",
       "17                  english            2         4.0\n",
       "20                    hindi            2         4.0\n",
       "21                  history            2         4.0\n",
       "24               literature            2         4.0\n",
       "25         machine learning            2         4.0\n",
       "38           social science            2         4.0\n",
       "0                 Chemistry            1         2.0\n",
       "1                     Maths            1         2.0\n",
       "2                   Nuclear            1         2.0\n",
       "3                   Physics            1         2.0\n",
       "4                   Science            1         2.0\n",
       "5             advance maths            1         2.0\n",
       "6                   algebra            1         2.0\n",
       "7                algorithms            1         2.0\n",
       "9                      arts            1         2.0\n",
       "10                   botony            1         2.0\n",
       "11                     c ++            1         2.0\n",
       "12                  cardiac            1         2.0\n",
       "14           data structure            1         2.0\n",
       "15           discrete maths            1         2.0\n",
       "16              engineering            1         2.0\n",
       "18          english grammar            1         2.0\n",
       "19                  grammar            1         2.0\n",
       "22                       it            1         2.0\n",
       "23                     java            1         2.0\n",
       "26                    maths            1         2.0\n",
       "27               mechanical            1         2.0\n",
       "28                  medical            1         2.0\n",
       "29       mobile development            1         2.0\n",
       "30                      nlp            1         2.0\n",
       "31               phisiology            1         2.0\n",
       "32                  physics            1         2.0\n",
       "33                   poetry            1         2.0\n",
       "34                 politics            1         2.0\n",
       "35              programming            1         2.0\n",
       "36               psychology            1         2.0\n",
       "37                  science            1         2.0\n",
       "39                  thermal            1         2.0\n",
       "40          web development            1         2.0\n",
       "41                  zoology            1         2.0"
      ]
     },
     "execution_count": 53,
     "metadata": {},
     "output_type": "execute_result"
    }
   ],
   "source": [
    "song_grouped = song_df.groupby(['song']).agg({'click_count': 'count'}).reset_index()\n",
    "#print (song_grouped)\n",
    "grouped_sum = song_grouped['click_count'].sum()\n",
    "#print (grouped_sum)\n",
    "\n",
    "song_grouped['percentage']  = song_grouped['click_count'].div(grouped_sum)*100\n",
    "song_grouped.sort_values(['click_count', 'song'], ascending = [0,1])"
   ]
  },
  {
   "cell_type": "markdown",
   "metadata": {},
   "source": [
    "## Count number of unique users in the dataset"
   ]
  },
  {
   "cell_type": "code",
   "execution_count": 54,
   "metadata": {
    "collapsed": false
   },
   "outputs": [],
   "source": [
    "users = song_df['user_id'].unique()"
   ]
  },
  {
   "cell_type": "code",
   "execution_count": 55,
   "metadata": {
    "collapsed": false
   },
   "outputs": [
    {
     "data": {
      "text/plain": [
       "11"
      ]
     },
     "execution_count": 55,
     "metadata": {},
     "output_type": "execute_result"
    }
   ],
   "source": [
    "len(users)"
   ]
  },
  {
   "cell_type": "markdown",
   "metadata": {},
   "source": [
    "## Quiz 1. Count the number of unique songs in the dataset"
   ]
  },
  {
   "cell_type": "code",
   "execution_count": 56,
   "metadata": {
    "collapsed": false
   },
   "outputs": [
    {
     "data": {
      "text/plain": [
       "42"
      ]
     },
     "execution_count": 56,
     "metadata": {},
     "output_type": "execute_result"
    }
   ],
   "source": [
    "###Fill in the code here\n",
    "songs = song_df['song'].unique()\n",
    "len(songs)"
   ]
  },
  {
   "cell_type": "markdown",
   "metadata": {},
   "source": [
    "# Create a song recommender"
   ]
  },
  {
   "cell_type": "code",
   "execution_count": 57,
   "metadata": {
    "collapsed": false
   },
   "outputs": [
    {
     "name": "stdout",
     "output_type": "stream",
     "text": [
      "                                     user_id             song_id  click_count  \\\n",
      "33  b80344d063b5ccb3212f76538f3d9e43d87dca9o  SOTRSFZ12A8C142BF6            1   \n",
      "35  b80344d063b5ccb3212f76538f3d9e43d87dca9o  SOVHRGF12A8C13852F            1   \n",
      "26  b80344d063b5ccb3212f76538f3d9e43d87dca9p  SODXRTY12AB0180F3B            1   \n",
      "34  b80344d063b5ccb3212f76538f3d9e43d87dca9o  SOUKXIN12A8C133C7F            1   \n",
      "18  b80344d063b5ccb3212f76538f3d9e43d87dca9z  SOKRIMP12A6D4F5DA3            1   \n",
      "\n",
      "                      title  Unnamed: 4                     song  \n",
      "33               mechanical         NaN               mechanical  \n",
      "35                computers         NaN                computers  \n",
      "26                  english         NaN                  english  \n",
      "34                  thermal         NaN                  thermal  \n",
      "18  artificial intelligence         NaN  artificial intelligence  \n"
     ]
    }
   ],
   "source": [
    "train_data, test_data = train_test_split(song_df, test_size = 0.20, random_state=0)\n",
    "print(train_data.head(5))"
   ]
  },
  {
   "cell_type": "markdown",
   "metadata": {},
   "source": [
    "## Simple popularity-based recommender class (Can be used as a black box)"
   ]
  },
  {
   "cell_type": "code",
   "execution_count": 58,
   "metadata": {
    "collapsed": false
   },
   "outputs": [],
   "source": [
    "#Recommenders.popularity_recommender_py"
   ]
  },
  {
   "cell_type": "markdown",
   "metadata": {},
   "source": [
    "### Create an instance of popularity based recommender class"
   ]
  },
  {
   "cell_type": "code",
   "execution_count": 59,
   "metadata": {
    "collapsed": false
   },
   "outputs": [],
   "source": [
    "pm = Recommenders.popularity_recommender_py()\n",
    "pm.create(train_data, 'user_id', 'song')"
   ]
  },
  {
   "cell_type": "markdown",
   "metadata": {},
   "source": [
    "### Use the popularity model to make some predictions"
   ]
  },
  {
   "cell_type": "code",
   "execution_count": 61,
   "metadata": {
    "collapsed": false
   },
   "outputs": [
    {
     "data": {
      "text/html": [
       "<div>\n",
       "<style scoped>\n",
       "    .dataframe tbody tr th:only-of-type {\n",
       "        vertical-align: middle;\n",
       "    }\n",
       "\n",
       "    .dataframe tbody tr th {\n",
       "        vertical-align: top;\n",
       "    }\n",
       "\n",
       "    .dataframe thead th {\n",
       "        text-align: right;\n",
       "    }\n",
       "</style>\n",
       "<table border=\"1\" class=\"dataframe\">\n",
       "  <thead>\n",
       "    <tr style=\"text-align: right;\">\n",
       "      <th></th>\n",
       "      <th>user_id</th>\n",
       "      <th>song</th>\n",
       "      <th>score</th>\n",
       "      <th>Rank</th>\n",
       "    </tr>\n",
       "  </thead>\n",
       "  <tbody>\n",
       "    <tr>\n",
       "      <th>5</th>\n",
       "      <td>b80344d063b5ccb3212f76538f3d9e43d87dca9f</td>\n",
       "      <td>artificial intelligence</td>\n",
       "      <td>2</td>\n",
       "      <td>1.0</td>\n",
       "    </tr>\n",
       "    <tr>\n",
       "      <th>10</th>\n",
       "      <td>b80344d063b5ccb3212f76538f3d9e43d87dca9f</td>\n",
       "      <td>computers</td>\n",
       "      <td>2</td>\n",
       "      <td>2.0</td>\n",
       "    </tr>\n",
       "    <tr>\n",
       "      <th>13</th>\n",
       "      <td>b80344d063b5ccb3212f76538f3d9e43d87dca9f</td>\n",
       "      <td>english</td>\n",
       "      <td>2</td>\n",
       "      <td>3.0</td>\n",
       "    </tr>\n",
       "    <tr>\n",
       "      <th>15</th>\n",
       "      <td>b80344d063b5ccb3212f76538f3d9e43d87dca9f</td>\n",
       "      <td>hindi</td>\n",
       "      <td>2</td>\n",
       "      <td>4.0</td>\n",
       "    </tr>\n",
       "    <tr>\n",
       "      <th>20</th>\n",
       "      <td>b80344d063b5ccb3212f76538f3d9e43d87dca9f</td>\n",
       "      <td>machine learning</td>\n",
       "      <td>2</td>\n",
       "      <td>5.0</td>\n",
       "    </tr>\n",
       "    <tr>\n",
       "      <th>30</th>\n",
       "      <td>b80344d063b5ccb3212f76538f3d9e43d87dca9f</td>\n",
       "      <td>social science</td>\n",
       "      <td>2</td>\n",
       "      <td>6.0</td>\n",
       "    </tr>\n",
       "    <tr>\n",
       "      <th>0</th>\n",
       "      <td>b80344d063b5ccb3212f76538f3d9e43d87dca9f</td>\n",
       "      <td>Nuclear</td>\n",
       "      <td>1</td>\n",
       "      <td>7.0</td>\n",
       "    </tr>\n",
       "    <tr>\n",
       "      <th>1</th>\n",
       "      <td>b80344d063b5ccb3212f76538f3d9e43d87dca9f</td>\n",
       "      <td>Physics</td>\n",
       "      <td>1</td>\n",
       "      <td>8.0</td>\n",
       "    </tr>\n",
       "    <tr>\n",
       "      <th>2</th>\n",
       "      <td>b80344d063b5ccb3212f76538f3d9e43d87dca9f</td>\n",
       "      <td>Science</td>\n",
       "      <td>1</td>\n",
       "      <td>9.0</td>\n",
       "    </tr>\n",
       "    <tr>\n",
       "      <th>3</th>\n",
       "      <td>b80344d063b5ccb3212f76538f3d9e43d87dca9f</td>\n",
       "      <td>advance maths</td>\n",
       "      <td>1</td>\n",
       "      <td>10.0</td>\n",
       "    </tr>\n",
       "  </tbody>\n",
       "</table>\n",
       "</div>"
      ],
      "text/plain": [
       "                                     user_id                     song  score  \\\n",
       "5   b80344d063b5ccb3212f76538f3d9e43d87dca9f  artificial intelligence      2   \n",
       "10  b80344d063b5ccb3212f76538f3d9e43d87dca9f                computers      2   \n",
       "13  b80344d063b5ccb3212f76538f3d9e43d87dca9f                  english      2   \n",
       "15  b80344d063b5ccb3212f76538f3d9e43d87dca9f                    hindi      2   \n",
       "20  b80344d063b5ccb3212f76538f3d9e43d87dca9f         machine learning      2   \n",
       "30  b80344d063b5ccb3212f76538f3d9e43d87dca9f           social science      2   \n",
       "0   b80344d063b5ccb3212f76538f3d9e43d87dca9f                  Nuclear      1   \n",
       "1   b80344d063b5ccb3212f76538f3d9e43d87dca9f                  Physics      1   \n",
       "2   b80344d063b5ccb3212f76538f3d9e43d87dca9f                  Science      1   \n",
       "3   b80344d063b5ccb3212f76538f3d9e43d87dca9f            advance maths      1   \n",
       "\n",
       "    Rank  \n",
       "5    1.0  \n",
       "10   2.0  \n",
       "13   3.0  \n",
       "15   4.0  \n",
       "20   5.0  \n",
       "30   6.0  \n",
       "0    7.0  \n",
       "1    8.0  \n",
       "2    9.0  \n",
       "3   10.0  "
      ]
     },
     "execution_count": 61,
     "metadata": {},
     "output_type": "execute_result"
    }
   ],
   "source": [
    "user_id = users[5]\n",
    "pm.recommend(user_id)"
   ]
  },
  {
   "cell_type": "markdown",
   "metadata": {},
   "source": [
    "### Quiz 2: Use the popularity based model to make predictions for the following user id (Note the difference in recommendations from the first user id)."
   ]
  },
  {
   "cell_type": "code",
   "execution_count": 62,
   "metadata": {
    "collapsed": false
   },
   "outputs": [
    {
     "data": {
      "text/html": [
       "<div>\n",
       "<style scoped>\n",
       "    .dataframe tbody tr th:only-of-type {\n",
       "        vertical-align: middle;\n",
       "    }\n",
       "\n",
       "    .dataframe tbody tr th {\n",
       "        vertical-align: top;\n",
       "    }\n",
       "\n",
       "    .dataframe thead th {\n",
       "        text-align: right;\n",
       "    }\n",
       "</style>\n",
       "<table border=\"1\" class=\"dataframe\">\n",
       "  <thead>\n",
       "    <tr style=\"text-align: right;\">\n",
       "      <th></th>\n",
       "      <th>user_id</th>\n",
       "      <th>song</th>\n",
       "      <th>score</th>\n",
       "      <th>Rank</th>\n",
       "    </tr>\n",
       "  </thead>\n",
       "  <tbody>\n",
       "    <tr>\n",
       "      <th>5</th>\n",
       "      <td>b80344d063b5ccb3212f76538f3d9e43d87dca9o</td>\n",
       "      <td>artificial intelligence</td>\n",
       "      <td>2</td>\n",
       "      <td>1.0</td>\n",
       "    </tr>\n",
       "    <tr>\n",
       "      <th>10</th>\n",
       "      <td>b80344d063b5ccb3212f76538f3d9e43d87dca9o</td>\n",
       "      <td>computers</td>\n",
       "      <td>2</td>\n",
       "      <td>2.0</td>\n",
       "    </tr>\n",
       "    <tr>\n",
       "      <th>13</th>\n",
       "      <td>b80344d063b5ccb3212f76538f3d9e43d87dca9o</td>\n",
       "      <td>english</td>\n",
       "      <td>2</td>\n",
       "      <td>3.0</td>\n",
       "    </tr>\n",
       "    <tr>\n",
       "      <th>15</th>\n",
       "      <td>b80344d063b5ccb3212f76538f3d9e43d87dca9o</td>\n",
       "      <td>hindi</td>\n",
       "      <td>2</td>\n",
       "      <td>4.0</td>\n",
       "    </tr>\n",
       "    <tr>\n",
       "      <th>20</th>\n",
       "      <td>b80344d063b5ccb3212f76538f3d9e43d87dca9o</td>\n",
       "      <td>machine learning</td>\n",
       "      <td>2</td>\n",
       "      <td>5.0</td>\n",
       "    </tr>\n",
       "    <tr>\n",
       "      <th>30</th>\n",
       "      <td>b80344d063b5ccb3212f76538f3d9e43d87dca9o</td>\n",
       "      <td>social science</td>\n",
       "      <td>2</td>\n",
       "      <td>6.0</td>\n",
       "    </tr>\n",
       "    <tr>\n",
       "      <th>0</th>\n",
       "      <td>b80344d063b5ccb3212f76538f3d9e43d87dca9o</td>\n",
       "      <td>Nuclear</td>\n",
       "      <td>1</td>\n",
       "      <td>7.0</td>\n",
       "    </tr>\n",
       "    <tr>\n",
       "      <th>1</th>\n",
       "      <td>b80344d063b5ccb3212f76538f3d9e43d87dca9o</td>\n",
       "      <td>Physics</td>\n",
       "      <td>1</td>\n",
       "      <td>8.0</td>\n",
       "    </tr>\n",
       "    <tr>\n",
       "      <th>2</th>\n",
       "      <td>b80344d063b5ccb3212f76538f3d9e43d87dca9o</td>\n",
       "      <td>Science</td>\n",
       "      <td>1</td>\n",
       "      <td>9.0</td>\n",
       "    </tr>\n",
       "    <tr>\n",
       "      <th>3</th>\n",
       "      <td>b80344d063b5ccb3212f76538f3d9e43d87dca9o</td>\n",
       "      <td>advance maths</td>\n",
       "      <td>1</td>\n",
       "      <td>10.0</td>\n",
       "    </tr>\n",
       "  </tbody>\n",
       "</table>\n",
       "</div>"
      ],
      "text/plain": [
       "                                     user_id                     song  score  \\\n",
       "5   b80344d063b5ccb3212f76538f3d9e43d87dca9o  artificial intelligence      2   \n",
       "10  b80344d063b5ccb3212f76538f3d9e43d87dca9o                computers      2   \n",
       "13  b80344d063b5ccb3212f76538f3d9e43d87dca9o                  english      2   \n",
       "15  b80344d063b5ccb3212f76538f3d9e43d87dca9o                    hindi      2   \n",
       "20  b80344d063b5ccb3212f76538f3d9e43d87dca9o         machine learning      2   \n",
       "30  b80344d063b5ccb3212f76538f3d9e43d87dca9o           social science      2   \n",
       "0   b80344d063b5ccb3212f76538f3d9e43d87dca9o                  Nuclear      1   \n",
       "1   b80344d063b5ccb3212f76538f3d9e43d87dca9o                  Physics      1   \n",
       "2   b80344d063b5ccb3212f76538f3d9e43d87dca9o                  Science      1   \n",
       "3   b80344d063b5ccb3212f76538f3d9e43d87dca9o            advance maths      1   \n",
       "\n",
       "    Rank  \n",
       "5    1.0  \n",
       "10   2.0  \n",
       "13   3.0  \n",
       "15   4.0  \n",
       "20   5.0  \n",
       "30   6.0  \n",
       "0    7.0  \n",
       "1    8.0  \n",
       "2    9.0  \n",
       "3   10.0  "
      ]
     },
     "execution_count": 62,
     "metadata": {},
     "output_type": "execute_result"
    }
   ],
   "source": [
    "###Fill in the code here\n",
    "user_id = users[8]\n",
    "pm.recommend(user_id)\n"
   ]
  },
  {
   "cell_type": "markdown",
   "metadata": {},
   "source": [
    "## Build a song recommender with personalization\n",
    "\n",
    "We now create an item similarity based collaborative filtering model that allows us to make personalized recommendations to each user. "
   ]
  },
  {
   "cell_type": "markdown",
   "metadata": {},
   "source": [
    "## Class for an item similarity based personalized recommender system (Can be used as a black box)"
   ]
  },
  {
   "cell_type": "code",
   "execution_count": 63,
   "metadata": {
    "collapsed": false
   },
   "outputs": [],
   "source": [
    "#Recommenders.item_similarity_recommender_py"
   ]
  },
  {
   "cell_type": "markdown",
   "metadata": {},
   "source": [
    "### Create an instance of item similarity based recommender class"
   ]
  },
  {
   "cell_type": "code",
   "execution_count": 64,
   "metadata": {
    "collapsed": false
   },
   "outputs": [],
   "source": [
    "is_model = Recommenders.item_similarity_recommender_py()\n",
    "is_model.create(train_data, 'user_id', 'song')"
   ]
  },
  {
   "cell_type": "markdown",
   "metadata": {},
   "source": [
    "### Use the personalized model to make some song recommendations"
   ]
  },
  {
   "cell_type": "code",
   "execution_count": 65,
   "metadata": {
    "collapsed": false
   },
   "outputs": [
    {
     "name": "stdout",
     "output_type": "stream",
     "text": [
      "------------------------------------------------------------------------------------\n",
      "Training data songs for the user userid: b80344d063b5ccb3212f76538f3d9e43d87dca9f:\n",
      "------------------------------------------------------------------------------------\n",
      "social science\n",
      "history\n",
      "politics\n",
      "----------------------------------------------------------------------\n",
      "Recommendation process going on:\n",
      "----------------------------------------------------------------------\n",
      "No. of unique songs for the user: 3\n",
      "no. of unique songs in the training set: 34\n",
      "Non zero values in cooccurence_matrix :12\n"
     ]
    },
    {
     "data": {
      "text/html": [
       "<div>\n",
       "<style scoped>\n",
       "    .dataframe tbody tr th:only-of-type {\n",
       "        vertical-align: middle;\n",
       "    }\n",
       "\n",
       "    .dataframe tbody tr th {\n",
       "        vertical-align: top;\n",
       "    }\n",
       "\n",
       "    .dataframe thead th {\n",
       "        text-align: right;\n",
       "    }\n",
       "</style>\n",
       "<table border=\"1\" class=\"dataframe\">\n",
       "  <thead>\n",
       "    <tr style=\"text-align: right;\">\n",
       "      <th></th>\n",
       "      <th>user_id</th>\n",
       "      <th>song</th>\n",
       "      <th>score</th>\n",
       "      <th>rank</th>\n",
       "    </tr>\n",
       "  </thead>\n",
       "  <tbody>\n",
       "    <tr>\n",
       "      <th>0</th>\n",
       "      <td>b80344d063b5ccb3212f76538f3d9e43d87dca9f</td>\n",
       "      <td>arts</td>\n",
       "      <td>0.166667</td>\n",
       "      <td>1</td>\n",
       "    </tr>\n",
       "    <tr>\n",
       "      <th>1</th>\n",
       "      <td>b80344d063b5ccb3212f76538f3d9e43d87dca9f</td>\n",
       "      <td>hindi</td>\n",
       "      <td>0.111111</td>\n",
       "      <td>2</td>\n",
       "    </tr>\n",
       "    <tr>\n",
       "      <th>2</th>\n",
       "      <td>b80344d063b5ccb3212f76538f3d9e43d87dca9f</td>\n",
       "      <td>english</td>\n",
       "      <td>0.111111</td>\n",
       "      <td>3</td>\n",
       "    </tr>\n",
       "    <tr>\n",
       "      <th>3</th>\n",
       "      <td>b80344d063b5ccb3212f76538f3d9e43d87dca9f</td>\n",
       "      <td>medical</td>\n",
       "      <td>0.000000</td>\n",
       "      <td>4</td>\n",
       "    </tr>\n",
       "    <tr>\n",
       "      <th>4</th>\n",
       "      <td>b80344d063b5ccb3212f76538f3d9e43d87dca9f</td>\n",
       "      <td>botony</td>\n",
       "      <td>0.000000</td>\n",
       "      <td>5</td>\n",
       "    </tr>\n",
       "    <tr>\n",
       "      <th>5</th>\n",
       "      <td>b80344d063b5ccb3212f76538f3d9e43d87dca9f</td>\n",
       "      <td>Science</td>\n",
       "      <td>0.000000</td>\n",
       "      <td>6</td>\n",
       "    </tr>\n",
       "    <tr>\n",
       "      <th>6</th>\n",
       "      <td>b80344d063b5ccb3212f76538f3d9e43d87dca9f</td>\n",
       "      <td>Nuclear</td>\n",
       "      <td>0.000000</td>\n",
       "      <td>7</td>\n",
       "    </tr>\n",
       "    <tr>\n",
       "      <th>7</th>\n",
       "      <td>b80344d063b5ccb3212f76538f3d9e43d87dca9f</td>\n",
       "      <td>phisiology</td>\n",
       "      <td>0.000000</td>\n",
       "      <td>8</td>\n",
       "    </tr>\n",
       "    <tr>\n",
       "      <th>8</th>\n",
       "      <td>b80344d063b5ccb3212f76538f3d9e43d87dca9f</td>\n",
       "      <td>programming</td>\n",
       "      <td>0.000000</td>\n",
       "      <td>9</td>\n",
       "    </tr>\n",
       "    <tr>\n",
       "      <th>9</th>\n",
       "      <td>b80344d063b5ccb3212f76538f3d9e43d87dca9f</td>\n",
       "      <td>poetry</td>\n",
       "      <td>0.000000</td>\n",
       "      <td>10</td>\n",
       "    </tr>\n",
       "  </tbody>\n",
       "</table>\n",
       "</div>"
      ],
      "text/plain": [
       "                                    user_id         song     score rank\n",
       "0  b80344d063b5ccb3212f76538f3d9e43d87dca9f         arts  0.166667    1\n",
       "1  b80344d063b5ccb3212f76538f3d9e43d87dca9f        hindi  0.111111    2\n",
       "2  b80344d063b5ccb3212f76538f3d9e43d87dca9f      english  0.111111    3\n",
       "3  b80344d063b5ccb3212f76538f3d9e43d87dca9f      medical  0.000000    4\n",
       "4  b80344d063b5ccb3212f76538f3d9e43d87dca9f       botony  0.000000    5\n",
       "5  b80344d063b5ccb3212f76538f3d9e43d87dca9f      Science  0.000000    6\n",
       "6  b80344d063b5ccb3212f76538f3d9e43d87dca9f      Nuclear  0.000000    7\n",
       "7  b80344d063b5ccb3212f76538f3d9e43d87dca9f   phisiology  0.000000    8\n",
       "8  b80344d063b5ccb3212f76538f3d9e43d87dca9f  programming  0.000000    9\n",
       "9  b80344d063b5ccb3212f76538f3d9e43d87dca9f       poetry  0.000000   10"
      ]
     },
     "execution_count": 65,
     "metadata": {},
     "output_type": "execute_result"
    }
   ],
   "source": [
    "#Print the songs for the user in training data\n",
    "user_id = users[5]\n",
    "user_items = is_model.get_user_items(user_id)\n",
    "#\n",
    "print(\"------------------------------------------------------------------------------------\")\n",
    "print(\"Training data songs for the user userid: %s:\" % user_id)\n",
    "print(\"------------------------------------------------------------------------------------\")\n",
    "\n",
    "for user_item in user_items:\n",
    "    print(user_item)\n",
    "\n",
    "print(\"----------------------------------------------------------------------\")\n",
    "print(\"Recommendation process going on:\")\n",
    "print(\"----------------------------------------------------------------------\")\n",
    "\n",
    "#Recommend songs for the user using personalized model\n",
    "is_model.recommend(user_id)"
   ]
  },
  {
   "cell_type": "markdown",
   "metadata": {},
   "source": [
    "### Quiz 3. Use the personalized model to make recommendations for the following user id. (Note the difference in recommendations from the first user id.)"
   ]
  },
  {
   "cell_type": "code",
   "execution_count": 66,
   "metadata": {
    "collapsed": false
   },
   "outputs": [
    {
     "name": "stdout",
     "output_type": "stream",
     "text": [
      "------------------------------------------------------------------------------------\n",
      "Training data songs for the user userid: b80344d063b5ccb3212f76538f3d9e43d87dca9p:\n",
      "------------------------------------------------------------------------------------\n",
      "english\n",
      "hindi\n",
      "social science\n",
      "arts\n",
      "----------------------------------------------------------------------\n",
      "Recommendation process going on:\n",
      "----------------------------------------------------------------------\n",
      "No. of unique songs for the user: 4\n",
      "no. of unique songs in the training set: 34\n",
      "Non zero values in cooccurence_matrix :24\n"
     ]
    },
    {
     "data": {
      "text/html": [
       "<div>\n",
       "<style scoped>\n",
       "    .dataframe tbody tr th:only-of-type {\n",
       "        vertical-align: middle;\n",
       "    }\n",
       "\n",
       "    .dataframe tbody tr th {\n",
       "        vertical-align: top;\n",
       "    }\n",
       "\n",
       "    .dataframe thead th {\n",
       "        text-align: right;\n",
       "    }\n",
       "</style>\n",
       "<table border=\"1\" class=\"dataframe\">\n",
       "  <thead>\n",
       "    <tr style=\"text-align: right;\">\n",
       "      <th></th>\n",
       "      <th>user_id</th>\n",
       "      <th>song</th>\n",
       "      <th>score</th>\n",
       "      <th>rank</th>\n",
       "    </tr>\n",
       "  </thead>\n",
       "  <tbody>\n",
       "    <tr>\n",
       "      <th>0</th>\n",
       "      <td>b80344d063b5ccb3212f76538f3d9e43d87dca9p</td>\n",
       "      <td>poetry</td>\n",
       "      <td>0.250</td>\n",
       "      <td>1</td>\n",
       "    </tr>\n",
       "    <tr>\n",
       "      <th>1</th>\n",
       "      <td>b80344d063b5ccb3212f76538f3d9e43d87dca9p</td>\n",
       "      <td>literature</td>\n",
       "      <td>0.250</td>\n",
       "      <td>2</td>\n",
       "    </tr>\n",
       "    <tr>\n",
       "      <th>2</th>\n",
       "      <td>b80344d063b5ccb3212f76538f3d9e43d87dca9p</td>\n",
       "      <td>english grammar</td>\n",
       "      <td>0.250</td>\n",
       "      <td>3</td>\n",
       "    </tr>\n",
       "    <tr>\n",
       "      <th>3</th>\n",
       "      <td>b80344d063b5ccb3212f76538f3d9e43d87dca9p</td>\n",
       "      <td>politics</td>\n",
       "      <td>0.125</td>\n",
       "      <td>4</td>\n",
       "    </tr>\n",
       "    <tr>\n",
       "      <th>4</th>\n",
       "      <td>b80344d063b5ccb3212f76538f3d9e43d87dca9p</td>\n",
       "      <td>history</td>\n",
       "      <td>0.125</td>\n",
       "      <td>5</td>\n",
       "    </tr>\n",
       "    <tr>\n",
       "      <th>5</th>\n",
       "      <td>b80344d063b5ccb3212f76538f3d9e43d87dca9p</td>\n",
       "      <td>medical</td>\n",
       "      <td>0.000</td>\n",
       "      <td>6</td>\n",
       "    </tr>\n",
       "    <tr>\n",
       "      <th>6</th>\n",
       "      <td>b80344d063b5ccb3212f76538f3d9e43d87dca9p</td>\n",
       "      <td>botony</td>\n",
       "      <td>0.000</td>\n",
       "      <td>7</td>\n",
       "    </tr>\n",
       "    <tr>\n",
       "      <th>7</th>\n",
       "      <td>b80344d063b5ccb3212f76538f3d9e43d87dca9p</td>\n",
       "      <td>Science</td>\n",
       "      <td>0.000</td>\n",
       "      <td>8</td>\n",
       "    </tr>\n",
       "    <tr>\n",
       "      <th>8</th>\n",
       "      <td>b80344d063b5ccb3212f76538f3d9e43d87dca9p</td>\n",
       "      <td>Nuclear</td>\n",
       "      <td>0.000</td>\n",
       "      <td>9</td>\n",
       "    </tr>\n",
       "    <tr>\n",
       "      <th>9</th>\n",
       "      <td>b80344d063b5ccb3212f76538f3d9e43d87dca9p</td>\n",
       "      <td>phisiology</td>\n",
       "      <td>0.000</td>\n",
       "      <td>10</td>\n",
       "    </tr>\n",
       "  </tbody>\n",
       "</table>\n",
       "</div>"
      ],
      "text/plain": [
       "                                    user_id             song  score rank\n",
       "0  b80344d063b5ccb3212f76538f3d9e43d87dca9p           poetry  0.250    1\n",
       "1  b80344d063b5ccb3212f76538f3d9e43d87dca9p       literature  0.250    2\n",
       "2  b80344d063b5ccb3212f76538f3d9e43d87dca9p  english grammar  0.250    3\n",
       "3  b80344d063b5ccb3212f76538f3d9e43d87dca9p         politics  0.125    4\n",
       "4  b80344d063b5ccb3212f76538f3d9e43d87dca9p          history  0.125    5\n",
       "5  b80344d063b5ccb3212f76538f3d9e43d87dca9p          medical  0.000    6\n",
       "6  b80344d063b5ccb3212f76538f3d9e43d87dca9p           botony  0.000    7\n",
       "7  b80344d063b5ccb3212f76538f3d9e43d87dca9p          Science  0.000    8\n",
       "8  b80344d063b5ccb3212f76538f3d9e43d87dca9p          Nuclear  0.000    9\n",
       "9  b80344d063b5ccb3212f76538f3d9e43d87dca9p       phisiology  0.000   10"
      ]
     },
     "execution_count": 66,
     "metadata": {},
     "output_type": "execute_result"
    }
   ],
   "source": [
    "user_id = users[7]\n",
    "#Fill in the code here\n",
    "user_items = is_model.get_user_items(user_id)\n",
    "#\n",
    "print(\"------------------------------------------------------------------------------------\")\n",
    "print(\"Training data songs for the user userid: %s:\" % user_id)\n",
    "print(\"------------------------------------------------------------------------------------\")\n",
    "\n",
    "for user_item in user_items:\n",
    "    print(user_item)\n",
    "\n",
    "print(\"----------------------------------------------------------------------\")\n",
    "print(\"Recommendation process going on:\")\n",
    "print(\"----------------------------------------------------------------------\")\n",
    "\n",
    "#Recommend songs for the user using personalized model\n",
    "is_model.recommend(user_id)\n"
   ]
  },
  {
   "cell_type": "markdown",
   "metadata": {},
   "source": [
    "### We can also apply the model to find similar songs to any song in the dataset"
   ]
  },
  {
   "cell_type": "code",
   "execution_count": 68,
   "metadata": {
    "collapsed": false
   },
   "outputs": [
    {
     "name": "stdout",
     "output_type": "stream",
     "text": [
      "no. of unique songs in the training set: 34\n",
      "Non zero values in cooccurence_matrix :0\n"
     ]
    },
    {
     "data": {
      "text/html": [
       "<div>\n",
       "<style scoped>\n",
       "    .dataframe tbody tr th:only-of-type {\n",
       "        vertical-align: middle;\n",
       "    }\n",
       "\n",
       "    .dataframe tbody tr th {\n",
       "        vertical-align: top;\n",
       "    }\n",
       "\n",
       "    .dataframe thead th {\n",
       "        text-align: right;\n",
       "    }\n",
       "</style>\n",
       "<table border=\"1\" class=\"dataframe\">\n",
       "  <thead>\n",
       "    <tr style=\"text-align: right;\">\n",
       "      <th></th>\n",
       "      <th>user_id</th>\n",
       "      <th>song</th>\n",
       "      <th>score</th>\n",
       "      <th>rank</th>\n",
       "    </tr>\n",
       "  </thead>\n",
       "  <tbody>\n",
       "    <tr>\n",
       "      <th>0</th>\n",
       "      <td></td>\n",
       "      <td>medical</td>\n",
       "      <td>0.0</td>\n",
       "      <td>1</td>\n",
       "    </tr>\n",
       "    <tr>\n",
       "      <th>1</th>\n",
       "      <td></td>\n",
       "      <td>botony</td>\n",
       "      <td>0.0</td>\n",
       "      <td>2</td>\n",
       "    </tr>\n",
       "    <tr>\n",
       "      <th>2</th>\n",
       "      <td></td>\n",
       "      <td>Science</td>\n",
       "      <td>0.0</td>\n",
       "      <td>3</td>\n",
       "    </tr>\n",
       "    <tr>\n",
       "      <th>3</th>\n",
       "      <td></td>\n",
       "      <td>Nuclear</td>\n",
       "      <td>0.0</td>\n",
       "      <td>4</td>\n",
       "    </tr>\n",
       "    <tr>\n",
       "      <th>4</th>\n",
       "      <td></td>\n",
       "      <td>phisiology</td>\n",
       "      <td>0.0</td>\n",
       "      <td>5</td>\n",
       "    </tr>\n",
       "    <tr>\n",
       "      <th>5</th>\n",
       "      <td></td>\n",
       "      <td>programming</td>\n",
       "      <td>0.0</td>\n",
       "      <td>6</td>\n",
       "    </tr>\n",
       "    <tr>\n",
       "      <th>6</th>\n",
       "      <td></td>\n",
       "      <td>poetry</td>\n",
       "      <td>0.0</td>\n",
       "      <td>7</td>\n",
       "    </tr>\n",
       "    <tr>\n",
       "      <th>7</th>\n",
       "      <td></td>\n",
       "      <td>politics</td>\n",
       "      <td>0.0</td>\n",
       "      <td>8</td>\n",
       "    </tr>\n",
       "    <tr>\n",
       "      <th>8</th>\n",
       "      <td></td>\n",
       "      <td>history</td>\n",
       "      <td>0.0</td>\n",
       "      <td>9</td>\n",
       "    </tr>\n",
       "    <tr>\n",
       "      <th>9</th>\n",
       "      <td></td>\n",
       "      <td>it</td>\n",
       "      <td>0.0</td>\n",
       "      <td>10</td>\n",
       "    </tr>\n",
       "  </tbody>\n",
       "</table>\n",
       "</div>"
      ],
      "text/plain": [
       "  user_id         song  score rank\n",
       "0              medical    0.0    1\n",
       "1               botony    0.0    2\n",
       "2              Science    0.0    3\n",
       "3              Nuclear    0.0    4\n",
       "4           phisiology    0.0    5\n",
       "5          programming    0.0    6\n",
       "6               poetry    0.0    7\n",
       "7             politics    0.0    8\n",
       "8              history    0.0    9\n",
       "9                   it    0.0   10"
      ]
     },
     "execution_count": 68,
     "metadata": {},
     "output_type": "execute_result"
    }
   ],
   "source": [
    "is_model.get_similar_items(['maths'])"
   ]
  },
  {
   "cell_type": "markdown",
   "metadata": {},
   "source": [
    "### Quiz 4. Use the personalized recommender model to get similar songs for the following song."
   ]
  },
  {
   "cell_type": "code",
   "execution_count": 69,
   "metadata": {
    "collapsed": false
   },
   "outputs": [
    {
     "name": "stdout",
     "output_type": "stream",
     "text": [
      "no. of unique songs in the training set: 34\n",
      "Non zero values in cooccurence_matrix :0\n"
     ]
    },
    {
     "data": {
      "text/html": [
       "<div>\n",
       "<style scoped>\n",
       "    .dataframe tbody tr th:only-of-type {\n",
       "        vertical-align: middle;\n",
       "    }\n",
       "\n",
       "    .dataframe tbody tr th {\n",
       "        vertical-align: top;\n",
       "    }\n",
       "\n",
       "    .dataframe thead th {\n",
       "        text-align: right;\n",
       "    }\n",
       "</style>\n",
       "<table border=\"1\" class=\"dataframe\">\n",
       "  <thead>\n",
       "    <tr style=\"text-align: right;\">\n",
       "      <th></th>\n",
       "      <th>user_id</th>\n",
       "      <th>song</th>\n",
       "      <th>score</th>\n",
       "      <th>rank</th>\n",
       "    </tr>\n",
       "  </thead>\n",
       "  <tbody>\n",
       "    <tr>\n",
       "      <th>0</th>\n",
       "      <td></td>\n",
       "      <td>medical</td>\n",
       "      <td>0.0</td>\n",
       "      <td>1</td>\n",
       "    </tr>\n",
       "    <tr>\n",
       "      <th>1</th>\n",
       "      <td></td>\n",
       "      <td>botony</td>\n",
       "      <td>0.0</td>\n",
       "      <td>2</td>\n",
       "    </tr>\n",
       "    <tr>\n",
       "      <th>2</th>\n",
       "      <td></td>\n",
       "      <td>Science</td>\n",
       "      <td>0.0</td>\n",
       "      <td>3</td>\n",
       "    </tr>\n",
       "    <tr>\n",
       "      <th>3</th>\n",
       "      <td></td>\n",
       "      <td>Nuclear</td>\n",
       "      <td>0.0</td>\n",
       "      <td>4</td>\n",
       "    </tr>\n",
       "    <tr>\n",
       "      <th>4</th>\n",
       "      <td></td>\n",
       "      <td>phisiology</td>\n",
       "      <td>0.0</td>\n",
       "      <td>5</td>\n",
       "    </tr>\n",
       "    <tr>\n",
       "      <th>5</th>\n",
       "      <td></td>\n",
       "      <td>programming</td>\n",
       "      <td>0.0</td>\n",
       "      <td>6</td>\n",
       "    </tr>\n",
       "    <tr>\n",
       "      <th>6</th>\n",
       "      <td></td>\n",
       "      <td>poetry</td>\n",
       "      <td>0.0</td>\n",
       "      <td>7</td>\n",
       "    </tr>\n",
       "    <tr>\n",
       "      <th>7</th>\n",
       "      <td></td>\n",
       "      <td>politics</td>\n",
       "      <td>0.0</td>\n",
       "      <td>8</td>\n",
       "    </tr>\n",
       "    <tr>\n",
       "      <th>8</th>\n",
       "      <td></td>\n",
       "      <td>history</td>\n",
       "      <td>0.0</td>\n",
       "      <td>9</td>\n",
       "    </tr>\n",
       "    <tr>\n",
       "      <th>9</th>\n",
       "      <td></td>\n",
       "      <td>it</td>\n",
       "      <td>0.0</td>\n",
       "      <td>10</td>\n",
       "    </tr>\n",
       "  </tbody>\n",
       "</table>\n",
       "</div>"
      ],
      "text/plain": [
       "  user_id         song  score rank\n",
       "0              medical    0.0    1\n",
       "1               botony    0.0    2\n",
       "2              Science    0.0    3\n",
       "3              Nuclear    0.0    4\n",
       "4           phisiology    0.0    5\n",
       "5          programming    0.0    6\n",
       "6               poetry    0.0    7\n",
       "7             politics    0.0    8\n",
       "8              history    0.0    9\n",
       "9                   it    0.0   10"
      ]
     },
     "execution_count": 69,
     "metadata": {},
     "output_type": "execute_result"
    }
   ],
   "source": [
    "song = 'Yellow - Coldplay'\n",
    "###Fill in the code here\n",
    "is_model.get_similar_items([song])"
   ]
  },
  {
   "cell_type": "markdown",
   "metadata": {},
   "source": [
    "# Quantitative comparison between the models\n",
    "\n",
    "We now formally compare the popularity and the personalized models using precision-recall curves. "
   ]
  },
  {
   "cell_type": "markdown",
   "metadata": {},
   "source": [
    "## Class to calculate precision and recall (This can be used as a black box)"
   ]
  },
  {
   "cell_type": "code",
   "execution_count": 70,
   "metadata": {
    "collapsed": false
   },
   "outputs": [],
   "source": [
    "#Evaluation.precision_recall_calculator"
   ]
  },
  {
   "cell_type": "markdown",
   "metadata": {},
   "source": [
    "## Use the above precision recall calculator class to calculate the evaluation measures"
   ]
  },
  {
   "cell_type": "code",
   "execution_count": 71,
   "metadata": {
    "collapsed": false
   },
   "outputs": [
    {
     "name": "stdout",
     "output_type": "stream",
     "text": [
      "Length of user_test_and_training:4\n",
      "Length of user sample:0\n"
     ]
    },
    {
     "ename": "ZeroDivisionError",
     "evalue": "float division by zero",
     "output_type": "error",
     "traceback": [
      "\u001b[0;31m---------------------------------------------------------------------------\u001b[0m",
      "\u001b[0;31mZeroDivisionError\u001b[0m                         Traceback (most recent call last)",
      "\u001b[0;32m<ipython-input-71-b0ee522c55a8>\u001b[0m in \u001b[0;36m<module>\u001b[0;34m()\u001b[0m\n\u001b[1;32m      8\u001b[0m \u001b[0;34m\u001b[0m\u001b[0m\n\u001b[1;32m      9\u001b[0m \u001b[0;31m#Call method to calculate precision and recall values\u001b[0m\u001b[0;34m\u001b[0m\u001b[0;34m\u001b[0m\u001b[0m\n\u001b[0;32m---> 10\u001b[0;31m \u001b[0;34m(\u001b[0m\u001b[0mpm_avg_precision_list\u001b[0m\u001b[0;34m,\u001b[0m \u001b[0mpm_avg_recall_list\u001b[0m\u001b[0;34m,\u001b[0m \u001b[0mism_avg_precision_list\u001b[0m\u001b[0;34m,\u001b[0m \u001b[0mism_avg_recall_list\u001b[0m\u001b[0;34m)\u001b[0m \u001b[0;34m=\u001b[0m \u001b[0mpr\u001b[0m\u001b[0;34m.\u001b[0m\u001b[0mcalculate_measures\u001b[0m\u001b[0;34m(\u001b[0m\u001b[0muser_sample\u001b[0m\u001b[0;34m)\u001b[0m\u001b[0;34m\u001b[0m\u001b[0m\n\u001b[0m\u001b[1;32m     11\u001b[0m \u001b[0;34m\u001b[0m\u001b[0m\n\u001b[1;32m     12\u001b[0m \u001b[0mend\u001b[0m \u001b[0;34m=\u001b[0m \u001b[0mtime\u001b[0m\u001b[0;34m.\u001b[0m\u001b[0mtime\u001b[0m\u001b[0;34m(\u001b[0m\u001b[0;34m)\u001b[0m\u001b[0;34m\u001b[0m\u001b[0m\n",
      "\u001b[0;32m/resources/Evaluation.py\u001b[0m in \u001b[0;36mcalculate_measures\u001b[0;34m(self, percentage)\u001b[0m\n\u001b[1;32m    123\u001b[0m         \u001b[0;31m#for popularity mode (pm) as well as item similarity model (ism)\u001b[0m\u001b[0;34m\u001b[0m\u001b[0;34m\u001b[0m\u001b[0m\n\u001b[1;32m    124\u001b[0m \u001b[0;34m\u001b[0m\u001b[0m\n\u001b[0;32m--> 125\u001b[0;31m         \u001b[0;32mreturn\u001b[0m \u001b[0mself\u001b[0m\u001b[0;34m.\u001b[0m\u001b[0mcalculate_precision_recall\u001b[0m\u001b[0;34m(\u001b[0m\u001b[0;34m)\u001b[0m\u001b[0;34m\u001b[0m\u001b[0m\n\u001b[0m\u001b[1;32m    126\u001b[0m         \u001b[0;31m#return (pm_avg_precision_list, pm_avg_recall_list, ism_avg_precision_list, ism_avg_recall_list)\u001b[0m\u001b[0;34m\u001b[0m\u001b[0;34m\u001b[0m\u001b[0m\n",
      "\u001b[0;32m/resources/Evaluation.py\u001b[0m in \u001b[0;36mcalculate_precision_recall\u001b[0;34m(self)\u001b[0m\n\u001b[1;32m     97\u001b[0m                 \u001b[0mism_sum_recall\u001b[0m \u001b[0;34m+=\u001b[0m \u001b[0mfloat\u001b[0m\u001b[0;34m(\u001b[0m\u001b[0mlen\u001b[0m\u001b[0;34m(\u001b[0m\u001b[0mism_hitset\u001b[0m\u001b[0;34m)\u001b[0m\u001b[0;34m)\u001b[0m\u001b[0;34m/\u001b[0m\u001b[0mfloat\u001b[0m\u001b[0;34m(\u001b[0m\u001b[0mN\u001b[0m\u001b[0;34m)\u001b[0m\u001b[0;34m\u001b[0m\u001b[0m\n\u001b[1;32m     98\u001b[0m \u001b[0;34m\u001b[0m\u001b[0m\n\u001b[0;32m---> 99\u001b[0;31m             \u001b[0mpm_avg_precision\u001b[0m \u001b[0;34m=\u001b[0m \u001b[0mpm_sum_precision\u001b[0m\u001b[0;34m/\u001b[0m\u001b[0mfloat\u001b[0m\u001b[0;34m(\u001b[0m\u001b[0mnum_users_sample\u001b[0m\u001b[0;34m)\u001b[0m\u001b[0;34m\u001b[0m\u001b[0m\n\u001b[0m\u001b[1;32m    100\u001b[0m             \u001b[0mpm_avg_recall\u001b[0m \u001b[0;34m=\u001b[0m \u001b[0mpm_sum_recall\u001b[0m\u001b[0;34m/\u001b[0m\u001b[0mfloat\u001b[0m\u001b[0;34m(\u001b[0m\u001b[0mnum_users_sample\u001b[0m\u001b[0;34m)\u001b[0m\u001b[0;34m\u001b[0m\u001b[0m\n\u001b[1;32m    101\u001b[0m \u001b[0;34m\u001b[0m\u001b[0m\n",
      "\u001b[0;31mZeroDivisionError\u001b[0m: float division by zero"
     ]
    }
   ],
   "source": [
    "start = time.time()\n",
    "\n",
    "#Define what percentage of users to use for precision recall calculation\n",
    "user_sample = 0.05\n",
    "\n",
    "#Instantiate the precision_recall_calculator class\n",
    "pr = Evaluation.precision_recall_calculator(test_data, train_data, pm, is_model)\n",
    "\n",
    "#Call method to calculate precision and recall values\n",
    "(pm_avg_precision_list, pm_avg_recall_list, ism_avg_precision_list, ism_avg_recall_list) = pr.calculate_measures(user_sample)\n",
    "\n",
    "end = time.time()\n",
    "print(end - start)"
   ]
  },
  {
   "cell_type": "markdown",
   "metadata": {},
   "source": [
    "## Code to plot precision recall curve"
   ]
  },
  {
   "cell_type": "code",
   "execution_count": null,
   "metadata": {
    "collapsed": true
   },
   "outputs": [],
   "source": [
    "import pylab as pl\n",
    "\n",
    "#Method to generate precision and recall curve\n",
    "def plot_precision_recall(m1_precision_list, m1_recall_list, m1_label, m2_precision_list, m2_recall_list, m2_label):\n",
    "    pl.clf()    \n",
    "    pl.plot(m1_recall_list, m1_precision_list, label=m1_label)\n",
    "    pl.plot(m2_recall_list, m2_precision_list, label=m2_label)\n",
    "    pl.xlabel('Recall')\n",
    "    pl.ylabel('Precision')\n",
    "    pl.ylim([0.0, 0.20])\n",
    "    pl.xlim([0.0, 0.20])\n",
    "    pl.title('Precision-Recall curve')\n",
    "    #pl.legend(loc=\"upper right\")\n",
    "    pl.legend(loc=9, bbox_to_anchor=(0.5, -0.2))\n",
    "    pl.show()\n"
   ]
  },
  {
   "cell_type": "code",
   "execution_count": null,
   "metadata": {
    "collapsed": false
   },
   "outputs": [],
   "source": [
    "print(\"Plotting precision recall curves.\")\n",
    "\n",
    "plot_precision_recall(pm_avg_precision_list, pm_avg_recall_list, \"popularity_model\",\n",
    "                      ism_avg_precision_list, ism_avg_recall_list, \"item_similarity_model\")\n"
   ]
  },
  {
   "cell_type": "markdown",
   "metadata": {},
   "source": [
    "### Generate Precision Recall curve using pickled results on a larger data subset(Python 3)"
   ]
  },
  {
   "cell_type": "code",
   "execution_count": null,
   "metadata": {
    "collapsed": false
   },
   "outputs": [],
   "source": [
    "print(\"Plotting precision recall curves for a larger subset of data (100,000 rows) (user sample = 0.005).\")\n",
    "\n",
    "#Read the persisted files \n",
    "pm_avg_precision_list = joblib.load('pm_avg_precision_list_3.pkl')\n",
    "pm_avg_recall_list = joblib.load('pm_avg_recall_list_3.pkl')\n",
    "ism_avg_precision_list = joblib.load('ism_avg_precision_list_3.pkl')\n",
    "ism_avg_recall_list = joblib.load('ism_avg_recall_list_3.pkl')\n",
    "\n",
    "print(\"Plotting precision recall curves.\")\n",
    "plot_precision_recall(pm_avg_precision_list, pm_avg_recall_list, \"popularity_model\",\n",
    "                      ism_avg_precision_list, ism_avg_recall_list, \"item_similarity_model\")"
   ]
  },
  {
   "cell_type": "markdown",
   "metadata": {},
   "source": [
    "### Generate Precision Recall curve using pickled results on a larger data subset(Python 2.7)"
   ]
  },
  {
   "cell_type": "code",
   "execution_count": null,
   "metadata": {
    "collapsed": false
   },
   "outputs": [],
   "source": [
    "print(\"Plotting precision recall curves for a larger subset of data (100,000 rows) (user sample = 0.005).\")\n",
    "\n",
    "pm_avg_precision_list = joblib.load('pm_avg_precision_list_2.pkl')\n",
    "pm_avg_recall_list = joblib.load('pm_avg_recall_list_2.pkl')\n",
    "ism_avg_precision_list = joblib.load('ism_avg_precision_list_2.pkl')\n",
    "ism_avg_recall_list = joblib.load('ism_avg_recall_list_2.pkl')\n",
    "\n",
    "print(\"Plotting precision recall curves.\")\n",
    "plot_precision_recall(pm_avg_precision_list, pm_avg_recall_list, \"popularity_model\",\n",
    "                      ism_avg_precision_list, ism_avg_recall_list, \"item_similarity_model\")"
   ]
  },
  {
   "cell_type": "markdown",
   "metadata": {
    "collapsed": true
   },
   "source": [
    "The curve shows that the personalized model provides much better performance over the popularity model. "
   ]
  },
  {
   "cell_type": "markdown",
   "metadata": {},
   "source": [
    "# Matrix Factorization based Recommender System"
   ]
  },
  {
   "cell_type": "raw",
   "metadata": {},
   "source": [
    "Using SVD matrix factorization based collaborative filtering recommender system\n",
    "--------------------------------------------------------------------------------\n",
    "\n",
    "The following code implements a Singular Value Decomposition (SVD) based matrix factorization collaborative filtering recommender system. The user ratings matrix used is a small matrix as follows:\n",
    "\n",
    "        Item0   Item1   Item2   Item3\n",
    "User0     3        1       2      3\n",
    "User1     4        3       4      3\n",
    "User2     3        2       1      5\n",
    "User3     1        6       5      2\n",
    "User4     0        0       5      0\n",
    "\n",
    "As we can see in the above matrix, all users except user 4 rate all items. The code calculates predicted recommendations for user 4."
   ]
  },
  {
   "cell_type": "markdown",
   "metadata": {},
   "source": [
    "### Import the required libraries"
   ]
  },
  {
   "cell_type": "code",
   "execution_count": null,
   "metadata": {
    "collapsed": true
   },
   "outputs": [],
   "source": [
    "#Code source written with help from: \n",
    "#http://antoinevastel.github.io/machine%20learning/python/2016/02/14/svd-recommender-system.html\n",
    "\n",
    "import math as mt\n",
    "import csv\n",
    "from sparsesvd import sparsesvd #used for matrix factorization\n",
    "import numpy as np\n",
    "from scipy.sparse import csc_matrix #used for sparse matrix\n",
    "from scipy.sparse.linalg import * #used for matrix multiplication\n",
    "\n",
    "#Note: You may need to install the library sparsesvd. Documentation for \n",
    "#sparsesvd method can be found here:\n",
    "#https://pypi.python.org/pypi/sparsesvd/"
   ]
  },
  {
   "cell_type": "markdown",
   "metadata": {},
   "source": [
    "### Methods to compute SVD and recommendations"
   ]
  },
  {
   "cell_type": "code",
   "execution_count": null,
   "metadata": {
    "collapsed": true
   },
   "outputs": [],
   "source": [
    "#constants defining the dimensions of our User Rating Matrix (URM)\n",
    "MAX_PID = 4\n",
    "MAX_UID = 5\n",
    "\n",
    "#Compute SVD of the user ratings matrix\n",
    "def computeSVD(urm, K):\n",
    "    U, s, Vt = sparsesvd(urm, K)\n",
    "\n",
    "    dim = (len(s), len(s))\n",
    "    S = np.zeros(dim, dtype=np.float32)\n",
    "    for i in range(0, len(s)):\n",
    "        S[i,i] = mt.sqrt(s[i])\n",
    "\n",
    "    U = csc_matrix(np.transpose(U), dtype=np.float32)\n",
    "    S = csc_matrix(S, dtype=np.float32)\n",
    "    Vt = csc_matrix(Vt, dtype=np.float32)\n",
    "    \n",
    "    return U, S, Vt\n",
    "\n",
    "#Compute estimated rating for the test user\n",
    "def computeEstimatedRatings(urm, U, S, Vt, uTest, K, test):\n",
    "    rightTerm = S*Vt \n",
    "\n",
    "    estimatedRatings = np.zeros(shape=(MAX_UID, MAX_PID), dtype=np.float16)\n",
    "    for userTest in uTest:\n",
    "        prod = U[userTest, :]*rightTerm\n",
    "        #we convert the vector to dense format in order to get the indices \n",
    "        #of the movies with the best estimated ratings \n",
    "        estimatedRatings[userTest, :] = prod.todense()\n",
    "        recom = (-estimatedRatings[userTest, :]).argsort()[:250]\n",
    "    return recom\n"
   ]
  },
  {
   "cell_type": "markdown",
   "metadata": {},
   "source": [
    "### Use SVD to make predictions for a test user id, say 4"
   ]
  },
  {
   "cell_type": "code",
   "execution_count": null,
   "metadata": {
    "collapsed": false
   },
   "outputs": [],
   "source": [
    "#Used in SVD calculation (number of latent factors)\n",
    "K=2\n",
    "\n",
    "#Initialize a sample user rating matrix\n",
    "urm = np.array([[3, 1, 2, 3],[4, 3, 4, 3],[3, 2, 1, 5], [1, 6, 5, 2], [5, 0,0 , 0]])\n",
    "urm = csc_matrix(urm, dtype=np.float32)\n",
    "\n",
    "#Compute SVD of the input user ratings matrix\n",
    "U, S, Vt = computeSVD(urm, K)\n",
    "\n",
    "#Test user set as user_id 4 with ratings [0, 0, 5, 0]\n",
    "uTest = [4]\n",
    "print(\"User id for whom recommendations are needed: %d\" % uTest[0])\n",
    "\n",
    "#Get estimated rating for test user\n",
    "print(\"Predictied ratings:\")\n",
    "uTest_recommended_items = computeEstimatedRatings(urm, U, S, Vt, uTest, K, True)\n",
    "print(uTest_recommended_items)"
   ]
  },
  {
   "cell_type": "markdown",
   "metadata": {},
   "source": [
    "### Quiz 4"
   ]
  },
  {
   "cell_type": "raw",
   "metadata": {},
   "source": [
    "a.) Change the input matrix row for test userid 4 in the user ratings matrix to the following value. Note the difference in predicted recommendations in this case.\n",
    "\n",
    "i.) [5 0 0 0]\n",
    "\n",
    "\n",
    "(Note*: The predicted ratings by the code include the items already rated by test user as well. This has been left purposefully like this for better understanding of SVD).\n",
    "\n",
    "SVD tutorial: http://web.mit.edu/be.400/www/SVD/Singular_Value_Decomposition.htm"
   ]
  },
  {
   "cell_type": "markdown",
   "metadata": {},
   "source": [
    "## Understanding Intuition behind SVD"
   ]
  },
  {
   "cell_type": "raw",
   "metadata": {},
   "source": [
    "SVD result gives three matrices as output: U, S and Vt (T in Vt means transpose). Matrix U represents user vectors and Matrix Vt represents item vectors. In simple terms, U represents users as 2 dimensional points in the latent vector space, and Vt represents items as 2 dimensional points in the same space.\n"
   ]
  },
  {
   "cell_type": "raw",
   "metadata": {},
   "source": [
    "Next, we print the matrices U, S and Vt and try to interpret them. Think how the points for users and items will look like in a 2 dimensional axis. For example, the following code plots all user vectors from the matrix U in the 2 dimensional space. Similarly, we plot all the item vectors in the same plot from the matrix Vt.\n"
   ]
  },
  {
   "cell_type": "code",
   "execution_count": null,
   "metadata": {
    "collapsed": false
   },
   "outputs": [],
   "source": [
    "%matplotlib inline\n",
    "from pylab import *\n",
    "\n",
    "#Plot all the users\n",
    "print(\"Matrix Dimensions for U\")\n",
    "print(U.shape)\n",
    "\n",
    "for i in range(0, U.shape[0]):\n",
    "    plot(U[i,0], U[i,1], marker = \"*\", label=\"user\"+str(i))\n",
    "\n",
    "for j in range(0, Vt.T.shape[0]):\n",
    "    plot(Vt.T[j,0], Vt.T[j,1], marker = 'd', label=\"item\"+str(j))    \n",
    "    \n",
    "legend(loc=\"upper right\")\n",
    "title('User vectors in the Latent semantic space')\n",
    "ylim([-0.7, 0.7])\n",
    "xlim([-0.7, 0])\n",
    "show()"
   ]
  },
  {
   "cell_type": "code",
   "execution_count": null,
   "metadata": {
    "collapsed": true
   },
   "outputs": [],
   "source": []
  }
 ],
 "metadata": {
  "kernelspec": {
   "display_name": "Python 3",
   "language": "python",
   "name": "python3"
  },
  "language_info": {
   "codemirror_mode": {
    "name": "ipython",
    "version": 3
   },
   "file_extension": ".py",
   "mimetype": "text/x-python",
   "name": "python",
   "nbconvert_exporter": "python",
   "pygments_lexer": "ipython3",
   "version": "3.5.2"
  },
  "widgets": {
   "state": {},
   "version": "1.1.2"
  }
 },
 "nbformat": 4,
 "nbformat_minor": 0
}
